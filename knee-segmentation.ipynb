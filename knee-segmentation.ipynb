{
 "cells": [
  {
   "cell_type": "code",
   "execution_count": 1,
   "metadata": {},
   "outputs": [],
   "source": [
    "import os\n",
    "import numpy as np\n",
    "import matplotlib.pyplot as plt\n",
    "import pydicom\n",
    "from skimage.filters import threshold_otsu\n",
    "from skimage.measure import label, regionprops"
   ]
  },
  {
   "cell_type": "code",
   "execution_count": 2,
   "metadata": {},
   "outputs": [],
   "source": [
    "# Path to the directory containing knee DICOM images\n",
    "input_dir = './Knee_dataset/series-00000/'\n",
    "output_dir = './KneeOutput-Notebook/'\n",
    "\n",
    "# Create the output directory if it does not exist\n",
    "os.makedirs(output_dir, exist_ok=True)\n",
    "\n",
    "# Get a list of all files in the input directory\n",
    "dicom_files = [file for file in os.listdir(input_dir) if file.endswith('.dcm')]"
   ]
  },
  {
   "cell_type": "code",
   "execution_count": 3,
   "metadata": {},
   "outputs": [],
   "source": [
    "\n",
    "# Process each knee image\n",
    "for file_name in dicom_files:\n",
    "    # Load the DICOM image\n",
    "    dicom_data = pydicom.dcmread(os.path.join(input_dir, file_name))\n",
    "    knee_img = dicom_data.pixel_array\n",
    "\n",
    "    # Apply Otsu's thresholding to segment knee\n",
    "    threshold_value = threshold_otsu(knee_img)\n",
    "    knee_mask = knee_img > threshold_value\n",
    "\n",
    "    # Label connected components\n",
    "    labeled_mask = label(knee_mask)\n",
    "\n",
    "    # Get properties of connected components\n",
    "    regions = regionprops(labeled_mask)\n",
    "\n",
    "    # Find the largest connected component (knee area)\n",
    "    knee_area = None\n",
    "    max_area = 0\n",
    "    for region in regions:\n",
    "        if region.area > max_area:\n",
    "            max_area = region.area\n",
    "            knee_area = region\n",
    "\n",
    "    # Create a binary mask for the largest connected component (knee)\n",
    "    knee_mask = np.zeros_like(labeled_mask)\n",
    "    knee_mask[labeled_mask == knee_area.label] = 1\n",
    "\n",
    "    # Overlay knee contours on the original image and save\n",
    "    plt.figure(figsize=(8, 8))\n",
    "    plt.imshow(knee_img, cmap='gray')\n",
    "    plt.contour(knee_mask, colors='red', linewidths=2, levels=[0.5])\n",
    "    plt.axis('off')\n",
    "\n",
    "    # Save the image with knee contours\n",
    "    plt.tight_layout()\n",
    "    plt.savefig(os.path.join(output_dir, f'knee_contours_{file_name.replace(\".dcm\", \".png\")}'))\n",
    "    plt.close()\n"
   ]
  },
  {
   "cell_type": "code",
   "execution_count": null,
   "metadata": {},
   "outputs": [],
   "source": []
  }
 ],
 "metadata": {
  "kernelspec": {
   "display_name": "Python 3",
   "language": "python",
   "name": "python3"
  },
  "language_info": {
   "codemirror_mode": {
    "name": "ipython",
    "version": 3
   },
   "file_extension": ".py",
   "mimetype": "text/x-python",
   "name": "python",
   "nbconvert_exporter": "python",
   "pygments_lexer": "ipython3",
   "version": "3.11.6"
  }
 },
 "nbformat": 4,
 "nbformat_minor": 2
}
